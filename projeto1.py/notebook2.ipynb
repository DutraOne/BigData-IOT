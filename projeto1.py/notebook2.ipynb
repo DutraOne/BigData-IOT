{
 "cells": [
  {
   "cell_type": "code",
   "execution_count": null,
   "metadata": {
    "vscode": {
     "languageId": "plaintext"
    }
   },
   "outputs": [],
   "source": [
    "from pyspark.sql import SparkSession\n",
    "\n",
    "spark = SparkSession.builder \\\n",
    "    .appName(\"Exemplo Spark SQL\") \\\n",
    "    .getOrCreate()\n",
    "\n",
    "data = [\n",
    "    (\"Ana\", 20, \"Matemática\"),\n",
    "    (\"Pedro\", 22, \"Física\"),\n",
    "    (\"Maria\", 19, \"Química\"),\n",
    "    (\"Lucas\", 21, \"Biologia\"),\n",
    "    (\"João\", 22, \"Matemática\")\n",
    "]\n",
    "\n",
    "columns = [\"Nome\", \"Idade\", \"Curso\"]\n",
    "\n",
    "df = spark.createDataFrame(data, columns)\n",
    "\n",
    "df.createOrReplaceTempView(\"Estudantes\")\n",
    "\n",
    "print(\"Estudantes com mais de 20 anos:\")\n",
    "spark.sql(\"SELECT * FROM Estudantes WHERE Idade > 20\").show()\n",
    "\n",
    "print(\"Número de estudandes por curso:\")\n",
    "spark.sql(\"SELECT Curso, COUNT(*)AS Total FROM Estudantes GROUP BY Curso\").show()\n",
    "\n",
    "print(\"Idade Média dpa estudantes:\")\n",
    "spark.sql(\"SELECT AVG(Idade) AS IdadeMedia FROM Estudantes\").show()\n",
    "\n",
    "spark.stop()"
   ]
  }
 ],
 "metadata": {
  "language_info": {
   "name": "python"
  }
 },
 "nbformat": 4,
 "nbformat_minor": 2
}
