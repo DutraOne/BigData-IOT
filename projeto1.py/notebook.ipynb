{
 "cells": [
  {
   "cell_type": "code",
   "execution_count": null,
   "metadata": {
    "vscode": {
     "languageId": "plaintext"
    }
   },
   "outputs": [],
   "source": [
    "from pyspark.sql import SparkSession\n",
    "\n",
    "spark = SparkSession.builder \\\n",
    "    .appName(\"Exemplo Simples Spark SQL\") \\\n",
    "    .getOrCreate()\n",
    "\n",
    "data = [(\"Alice\", 24), (\"Bob\", 30), (\"Charlie\", 29)]\n",
    "columns = [\"Nome\", \"Idade\"]\n",
    "           \n",
    "df = spark.createDataFrame(data, columns)\n",
    "\n",
    "df.createOrReplaceTempView(\"Pessoas\")\n",
    "\n",
    "resultado = spark.sql(\"SELECT Nome FROM Pessoas Where Idade > 25\")\n",
    "resultado.show()\n",
    "\n",
    "spark.stop()\n"
   ]
  }
 ],
 "metadata": {
  "language_info": {
   "name": "python"
  }
 },
 "nbformat": 4,
 "nbformat_minor": 2
}
